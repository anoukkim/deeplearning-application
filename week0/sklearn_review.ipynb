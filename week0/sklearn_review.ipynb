{
  "nbformat": 4,
  "nbformat_minor": 0,
  "metadata": {
    "colab": {
      "provenance": []
    },
    "kernelspec": {
      "name": "python3",
      "display_name": "Python 3"
    },
    "language_info": {
      "name": "python"
    }
  },
  "cells": [
    {
      "cell_type": "markdown",
      "source": [
        "# Basic sklearn algorithms\n",
        "Documentation for implementation of basic scikit-learn libraries"
      ],
      "metadata": {
        "id": "7EZbxDCw6clK"
      }
    },
    {
      "cell_type": "markdown",
      "source": [
        "## Import Libraries"
      ],
      "metadata": {
        "id": "BCLnKujl6wi4"
      }
    },
    {
      "cell_type": "code",
      "source": [
        "# Basic Libraries\n",
        "import numpy as np\n",
        "import pandas as pd\n",
        "import seaborn as sns\n",
        "from sklearn.model_selection import train_test_split\n",
        "from sklearn.preprocessing import StandardScaler\n",
        "from sklearn.metrics import accuracy_score, mean_squared_error\n",
        "\n",
        "# Classification Algorithms\n",
        "from sklearn.linear_model import LogisticRegression\n",
        "from sklearn.neighbors import KNeighborsClassifier\n",
        "from sklearn.svm import SVC\n",
        "from sklearn.ensemble import RandomForestClassifier, GradientBoostingClassifier\n",
        "from sklearn.tree import DecisionTreeClassifier\n",
        "from sklearn.naive_bayes import GaussianNB\n",
        "from sklearn.neural_network import MLPClassifier\n",
        "\n",
        "# Regression Algorithms\n",
        "from sklearn.linear_model import LinearRegression, Ridge, Lasso\n",
        "from sklearn.tree import DecisionTreeRegressor\n",
        "from sklearn.ensemble import RandomForestRegressor, GradientBoostingRegressor\n",
        "from sklearn.svm import SVR\n",
        "from sklearn.neighbors import KNeighborsRegressor\n",
        "from sklearn.neural_network import MLPRegressor"
      ],
      "metadata": {
        "id": "69YvMyov6q9R"
      },
      "execution_count": 4,
      "outputs": []
    },
    {
      "cell_type": "markdown",
      "source": [
        "## Classification"
      ],
      "metadata": {
        "id": "NzQb_-Ex6zvX"
      }
    },
    {
      "cell_type": "code",
      "source": [
        "# Load Iris dataset from Seaborn\n",
        "iris = sns.load_dataset('iris')\n",
        "\n",
        "# Preparing data\n",
        "X = iris.drop(columns='species')\n",
        "y = iris['species']\n",
        "\n",
        "# Train-test split\n",
        "X_train, X_test, y_train, y_test = train_test_split(X, y, test_size=0.3, random_state=42)\n",
        "\n",
        "# Standardizing data\n",
        "scaler = StandardScaler()\n",
        "X_train_scaled = scaler.fit_transform(X_train)\n",
        "X_test_scaled = scaler.transform(X_test)\n",
        "\n",
        "# List of classifiers\n",
        "classifiers = {\n",
        "    \"Logistic Regression\": LogisticRegression(),\n",
        "    \"K-Nearest Neighbors\": KNeighborsClassifier(),\n",
        "    \"Support Vector Classifier\": SVC(),\n",
        "    \"Random Forest\": RandomForestClassifier(),\n",
        "    \"Gradient Boosting\": GradientBoostingClassifier(),\n",
        "    \"Decision Tree\": DecisionTreeClassifier(),\n",
        "    \"Naive Bayes\": GaussianNB(),\n",
        "    \"Neural Network (MLP)\": MLPClassifier(max_iter=1000)\n",
        "}\n",
        "\n",
        "print(\"Classification Results on Iris Dataset:\")\n",
        "for name, clf in classifiers.items():\n",
        "    clf.fit(X_train_scaled, y_train)\n",
        "    y_pred = clf.predict(X_test_scaled)\n",
        "    accuracy = accuracy_score(y_test, y_pred)\n",
        "    print(f\"{name}: Accuracy = {accuracy:.4f}\")"
      ],
      "metadata": {
        "colab": {
          "base_uri": "https://localhost:8080/"
        },
        "id": "lkewhrc06sh6",
        "outputId": "e89480dc-e2b0-498f-8b71-f0381e48ef45"
      },
      "execution_count": 5,
      "outputs": [
        {
          "output_type": "stream",
          "name": "stdout",
          "text": [
            "Classification Results on Iris Dataset:\n",
            "Logistic Regression: Accuracy = 1.0000\n",
            "K-Nearest Neighbors: Accuracy = 1.0000\n",
            "Support Vector Classifier: Accuracy = 1.0000\n",
            "Random Forest: Accuracy = 1.0000\n",
            "Gradient Boosting: Accuracy = 1.0000\n",
            "Decision Tree: Accuracy = 1.0000\n",
            "Naive Bayes: Accuracy = 0.9778\n",
            "Neural Network (MLP): Accuracy = 1.0000\n"
          ]
        }
      ]
    },
    {
      "cell_type": "markdown",
      "source": [
        "## Regression"
      ],
      "metadata": {
        "id": "Y7jAu6ox61a3"
      }
    },
    {
      "cell_type": "code",
      "source": [
        "from sklearn.datasets import fetch_california_housing\n",
        "\n",
        "# Load California Housing dataset\n",
        "california_housing = fetch_california_housing()\n",
        "X = california_housing.data\n",
        "y = california_housing.target\n",
        "\n",
        "# Train-test split\n",
        "X_train, X_test, y_train, y_test = train_test_split(X, y, test_size=0.3, random_state=42)\n",
        "\n",
        "# Standardizing data\n",
        "X_train_scaled = scaler.fit_transform(X_train)\n",
        "X_test_scaled = scaler.transform(X_test)\n",
        "\n",
        "# List of regressors\n",
        "regressors = {\n",
        "    \"Linear Regression\": LinearRegression(),\n",
        "    \"Ridge Regression\": Ridge(),\n",
        "    \"Lasso Regression\": Lasso(),\n",
        "    \"Decision Tree Regressor\": DecisionTreeRegressor(),\n",
        "    \"Random Forest Regressor\": RandomForestRegressor(),\n",
        "    \"Gradient Boosting Regressor\": GradientBoostingRegressor(),\n",
        "    \"Support Vector Regressor\": SVR(),\n",
        "    \"K-Nearest Neighbors Regressor\": KNeighborsRegressor(),\n",
        "    \"Neural Network (MLP)\": MLPRegressor(max_iter=1000)\n",
        "}\n",
        "\n",
        "print(\"\\nRegression Results on California Housing Dataset:\")\n",
        "for name, reg in regressors.items():\n",
        "    reg.fit(X_train_scaled, y_train)\n",
        "    y_pred = reg.predict(X_test_scaled)\n",
        "    mse = mean_squared_error(y_test, y_pred)\n",
        "    print(f\"{name}: MSE = {mse:.4f}\")"
      ],
      "metadata": {
        "colab": {
          "base_uri": "https://localhost:8080/"
        },
        "id": "OBfdTmkP63d6",
        "outputId": "8bbfb009-4fa9-4ff7-f99a-3e9371c485ff"
      },
      "execution_count": 6,
      "outputs": [
        {
          "output_type": "stream",
          "name": "stdout",
          "text": [
            "\n",
            "Regression Results on California Housing Dataset:\n",
            "Linear Regression: MSE = 0.5306\n",
            "Ridge Regression: MSE = 0.5305\n",
            "Lasso Regression: MSE = 1.3125\n",
            "Decision Tree Regressor: MSE = 0.5282\n",
            "Random Forest Regressor: MSE = 0.2546\n",
            "Gradient Boosting Regressor: MSE = 0.2883\n",
            "Support Vector Regressor: MSE = 0.3496\n",
            "K-Nearest Neighbors Regressor: MSE = 0.4295\n",
            "Neural Network (MLP): MSE = 0.2958\n"
          ]
        }
      ]
    },
    {
      "cell_type": "markdown",
      "source": [
        "***"
      ],
      "metadata": {
        "id": "SCRho55V6dlI"
      }
    },
    {
      "cell_type": "markdown",
      "source": [
        "# Sklearn algorithms with additional methods\n",
        "* PCA (reduce features to Classification: 2, Regression: 5)\n",
        "* Feature Selection with SelectKBest (ANOVA for classification, F-test for regression)\n",
        "* 5-Fold Cross-Validation\n",
        "\n"
      ],
      "metadata": {
        "id": "yQpTrfd26fer"
      }
    },
    {
      "cell_type": "markdown",
      "source": [
        "## Import Libraries"
      ],
      "metadata": {
        "id": "TDvkMT3-6RXD"
      }
    },
    {
      "cell_type": "code",
      "execution_count": 1,
      "metadata": {
        "id": "3zuiu3t_5Lox"
      },
      "outputs": [],
      "source": [
        "# Basic Libraries\n",
        "import numpy as np\n",
        "import pandas as pd\n",
        "import seaborn as sns\n",
        "from sklearn.model_selection import train_test_split, cross_val_score, GridSearchCV\n",
        "from sklearn.preprocessing import StandardScaler, PolynomialFeatures\n",
        "from sklearn.decomposition import PCA\n",
        "from sklearn.feature_selection import SelectKBest, f_classif, f_regression\n",
        "from sklearn.metrics import accuracy_score, mean_squared_error, classification_report, r2_score\n",
        "from sklearn.pipeline import Pipeline\n",
        "\n",
        "# Classification Algorithms\n",
        "from sklearn.linear_model import LogisticRegression\n",
        "from sklearn.neighbors import KNeighborsClassifier\n",
        "from sklearn.svm import SVC\n",
        "from sklearn.ensemble import RandomForestClassifier, GradientBoostingClassifier\n",
        "from sklearn.tree import DecisionTreeClassifier\n",
        "from sklearn.naive_bayes import GaussianNB\n",
        "from sklearn.neural_network import MLPClassifier\n",
        "\n",
        "# Regression Algorithms\n",
        "from sklearn.linear_model import LinearRegression, Ridge, Lasso\n",
        "from sklearn.tree import DecisionTreeRegressor\n",
        "from sklearn.ensemble import RandomForestRegressor, GradientBoostingRegressor\n",
        "from sklearn.svm import SVR\n",
        "from sklearn.neighbors import KNeighborsRegressor\n",
        "from sklearn.neural_network import MLPRegressor"
      ]
    },
    {
      "cell_type": "markdown",
      "source": [
        "## Iris Dateset for Classification"
      ],
      "metadata": {
        "id": "MeNQptwp5zno"
      }
    },
    {
      "cell_type": "code",
      "source": [
        "# Load Iris dataset from Seaborn\n",
        "iris = sns.load_dataset('iris')\n",
        "\n",
        "# Preparing data\n",
        "X = iris.drop(columns='species')\n",
        "y = iris['species']\n",
        "\n",
        "# Train-test split\n",
        "X_train, X_test, y_train, y_test = train_test_split(X, y, test_size=0.3, random_state=42)\n",
        "\n",
        "# Standardizing data\n",
        "scaler = StandardScaler()\n",
        "X_train_scaled = scaler.fit_transform(X_train)\n",
        "X_test_scaled = scaler.transform(X_test)\n",
        "\n",
        "# Applying PCA for dimensionality reduction\n",
        "pca = PCA(n_components=2)  # Reduce to 2 dimensions\n",
        "X_train_pca = pca.fit_transform(X_train_scaled)\n",
        "X_test_pca = pca.transform(X_test_scaled)\n",
        "\n",
        "# Applying feature selection\n",
        "select_k_best = SelectKBest(score_func=f_classif, k=2)  # Selecting top 2 features\n",
        "X_train_selected = select_k_best.fit_transform(X_train_scaled, y_train)\n",
        "X_test_selected = select_k_best.transform(X_test_scaled)\n",
        "\n",
        "# List of classifiers with pipelines for PCA and feature selection\n",
        "classifiers = {\n",
        "    \"Logistic Regression\": Pipeline([('pca', pca), ('clf', LogisticRegression())]),\n",
        "    \"K-Nearest Neighbors\": Pipeline([('select', select_k_best), ('clf', KNeighborsClassifier())]),\n",
        "    \"Support Vector Classifier\": Pipeline([('select', select_k_best), ('clf', SVC())]),\n",
        "    \"Random Forest\": RandomForestClassifier(),\n",
        "    \"Gradient Boosting\": GradientBoostingClassifier(),\n",
        "    \"Decision Tree\": DecisionTreeClassifier(),\n",
        "    \"Naive Bayes\": GaussianNB(),\n",
        "    \"Neural Network (MLP)\": MLPClassifier(max_iter=1000)\n",
        "}\n",
        "\n",
        "# Evaluating models with cross-validation and reporting classification metrics\n",
        "print(\"Classification Results on Iris Dataset:\")\n",
        "for name, clf in classifiers.items():\n",
        "    # Cross-validation accuracy\n",
        "    cv_scores = cross_val_score(clf, X_train_scaled, y_train, cv=5)\n",
        "    clf.fit(X_train_scaled, y_train)\n",
        "    y_pred = clf.predict(X_test_scaled)\n",
        "    accuracy = accuracy_score(y_test, y_pred)\n",
        "    print(f\"{name}: CV Accuracy = {cv_scores.mean():.4f}, Test Accuracy = {accuracy:.4f}\")\n",
        "    print(classification_report(y_test, y_pred))"
      ],
      "metadata": {
        "colab": {
          "base_uri": "https://localhost:8080/"
        },
        "id": "KerLguEb5xlp",
        "outputId": "601c6175-d9e9-4e27-a9e0-67b5aa9d3628"
      },
      "execution_count": 2,
      "outputs": [
        {
          "output_type": "stream",
          "name": "stdout",
          "text": [
            "Classification Results on Iris Dataset:\n",
            "Logistic Regression: CV Accuracy = 0.9048, Test Accuracy = 0.9111\n",
            "              precision    recall  f1-score   support\n",
            "\n",
            "      setosa       1.00      1.00      1.00        19\n",
            "  versicolor       0.91      0.77      0.83        13\n",
            "   virginica       0.80      0.92      0.86        13\n",
            "\n",
            "    accuracy                           0.91        45\n",
            "   macro avg       0.90      0.90      0.90        45\n",
            "weighted avg       0.92      0.91      0.91        45\n",
            "\n",
            "K-Nearest Neighbors: CV Accuracy = 0.9524, Test Accuracy = 1.0000\n",
            "              precision    recall  f1-score   support\n",
            "\n",
            "      setosa       1.00      1.00      1.00        19\n",
            "  versicolor       1.00      1.00      1.00        13\n",
            "   virginica       1.00      1.00      1.00        13\n",
            "\n",
            "    accuracy                           1.00        45\n",
            "   macro avg       1.00      1.00      1.00        45\n",
            "weighted avg       1.00      1.00      1.00        45\n",
            "\n",
            "Support Vector Classifier: CV Accuracy = 0.9429, Test Accuracy = 1.0000\n",
            "              precision    recall  f1-score   support\n",
            "\n",
            "      setosa       1.00      1.00      1.00        19\n",
            "  versicolor       1.00      1.00      1.00        13\n",
            "   virginica       1.00      1.00      1.00        13\n",
            "\n",
            "    accuracy                           1.00        45\n",
            "   macro avg       1.00      1.00      1.00        45\n",
            "weighted avg       1.00      1.00      1.00        45\n",
            "\n",
            "Random Forest: CV Accuracy = 0.9429, Test Accuracy = 1.0000\n",
            "              precision    recall  f1-score   support\n",
            "\n",
            "      setosa       1.00      1.00      1.00        19\n",
            "  versicolor       1.00      1.00      1.00        13\n",
            "   virginica       1.00      1.00      1.00        13\n",
            "\n",
            "    accuracy                           1.00        45\n",
            "   macro avg       1.00      1.00      1.00        45\n",
            "weighted avg       1.00      1.00      1.00        45\n",
            "\n",
            "Gradient Boosting: CV Accuracy = 0.9048, Test Accuracy = 1.0000\n",
            "              precision    recall  f1-score   support\n",
            "\n",
            "      setosa       1.00      1.00      1.00        19\n",
            "  versicolor       1.00      1.00      1.00        13\n",
            "   virginica       1.00      1.00      1.00        13\n",
            "\n",
            "    accuracy                           1.00        45\n",
            "   macro avg       1.00      1.00      1.00        45\n",
            "weighted avg       1.00      1.00      1.00        45\n",
            "\n",
            "Decision Tree: CV Accuracy = 0.9333, Test Accuracy = 1.0000\n",
            "              precision    recall  f1-score   support\n",
            "\n",
            "      setosa       1.00      1.00      1.00        19\n",
            "  versicolor       1.00      1.00      1.00        13\n",
            "   virginica       1.00      1.00      1.00        13\n",
            "\n",
            "    accuracy                           1.00        45\n",
            "   macro avg       1.00      1.00      1.00        45\n",
            "weighted avg       1.00      1.00      1.00        45\n",
            "\n",
            "Naive Bayes: CV Accuracy = 0.9333, Test Accuracy = 0.9778\n",
            "              precision    recall  f1-score   support\n",
            "\n",
            "      setosa       1.00      1.00      1.00        19\n",
            "  versicolor       1.00      0.92      0.96        13\n",
            "   virginica       0.93      1.00      0.96        13\n",
            "\n",
            "    accuracy                           0.98        45\n",
            "   macro avg       0.98      0.97      0.97        45\n",
            "weighted avg       0.98      0.98      0.98        45\n",
            "\n",
            "Neural Network (MLP): CV Accuracy = 0.9333, Test Accuracy = 1.0000\n",
            "              precision    recall  f1-score   support\n",
            "\n",
            "      setosa       1.00      1.00      1.00        19\n",
            "  versicolor       1.00      1.00      1.00        13\n",
            "   virginica       1.00      1.00      1.00        13\n",
            "\n",
            "    accuracy                           1.00        45\n",
            "   macro avg       1.00      1.00      1.00        45\n",
            "weighted avg       1.00      1.00      1.00        45\n",
            "\n"
          ]
        }
      ]
    },
    {
      "cell_type": "markdown",
      "source": [
        "## California Housing Data for Regression"
      ],
      "metadata": {
        "id": "ewUi9Wgp57cL"
      }
    },
    {
      "cell_type": "code",
      "source": [
        "from sklearn.datasets import fetch_california_housing\n",
        "\n",
        "# Load California Housing dataset\n",
        "california_housing = fetch_california_housing()\n",
        "X = california_housing.data\n",
        "y = california_housing.target\n",
        "\n",
        "# Train-test split\n",
        "X_train, X_test, y_train, y_test = train_test_split(X, y, test_size=0.3, random_state=42)\n",
        "\n",
        "# Standardizing data\n",
        "X_train_scaled = scaler.fit_transform(X_train)\n",
        "X_test_scaled = scaler.transform(X_test)\n",
        "\n",
        "# Applying PCA for dimensionality reduction\n",
        "pca = PCA(n_components=5)  # Reduce to 5 dimensions for regression\n",
        "X_train_pca = pca.fit_transform(X_train_scaled)\n",
        "X_test_pca = pca.transform(X_test_scaled)\n",
        "\n",
        "# Applying feature selection\n",
        "select_k_best = SelectKBest(score_func=f_regression, k=5)  # Selecting top 5 features\n",
        "X_train_selected = select_k_best.fit_transform(X_train_scaled, y_train)\n",
        "X_test_selected = select_k_best.transform(X_test_scaled)\n",
        "\n",
        "# List of regressors with pipelines for PCA and feature selection\n",
        "regressors = {\n",
        "    \"Linear Regression\": Pipeline([('pca', pca), ('reg', LinearRegression())]),\n",
        "    \"Ridge Regression\": Ridge(),\n",
        "    \"Lasso Regression\": Lasso(),\n",
        "    \"Decision Tree Regressor\": DecisionTreeRegressor(),\n",
        "    \"Random Forest Regressor\": RandomForestRegressor(),\n",
        "    \"Gradient Boosting Regressor\": GradientBoostingRegressor(),\n",
        "    \"Support Vector Regressor\": Pipeline([('select', select_k_best), ('reg', SVR())]),\n",
        "    \"K-Nearest Neighbors Regressor\": KNeighborsRegressor(),\n",
        "    \"Neural Network (MLP)\": MLPRegressor(max_iter=1000)\n",
        "}\n",
        "\n",
        "# Evaluating models with cross-validation and reporting regression metrics\n",
        "print(\"\\nRegression Results on California Housing Dataset:\")\n",
        "for name, reg in regressors.items():\n",
        "    # Cross-validation score\n",
        "    cv_scores = cross_val_score(reg, X_train_scaled, y_train, cv=5, scoring='neg_mean_squared_error')\n",
        "    reg.fit(X_train_scaled, y_train)\n",
        "    y_pred = reg.predict(X_test_scaled)\n",
        "    mse = mean_squared_error(y_test, y_pred)\n",
        "    r2 = r2_score(y_test, y_pred)\n",
        "    print(f\"{name}: CV MSE = {-cv_scores.mean():.4f}, Test MSE = {mse:.4f}, R^2 = {r2:.4f}\")"
      ],
      "metadata": {
        "colab": {
          "base_uri": "https://localhost:8080/"
        },
        "id": "wUwa-UeW541i",
        "outputId": "a16b29e0-ac6b-41d0-977e-f6c2e8492c13"
      },
      "execution_count": 3,
      "outputs": [
        {
          "output_type": "stream",
          "name": "stdout",
          "text": [
            "\n",
            "Regression Results on California Housing Dataset:\n",
            "Linear Regression: CV MSE = 0.7235, Test MSE = 0.7161, R^2 = 0.4544\n",
            "Ridge Regression: CV MSE = 0.5268, Test MSE = 0.5305, R^2 = 0.5958\n",
            "Lasso Regression: CV MSE = 1.3400, Test MSE = 1.3125, R^2 = -0.0000\n",
            "Decision Tree Regressor: CV MSE = 0.5604, Test MSE = 0.5340, R^2 = 0.5932\n",
            "Random Forest Regressor: CV MSE = 0.2687, Test MSE = 0.2538, R^2 = 0.8067\n",
            "Gradient Boosting Regressor: CV MSE = 0.2875, Test MSE = 0.2883, R^2 = 0.7803\n",
            "Support Vector Regressor: CV MSE = 0.4435, Test MSE = 0.4269, R^2 = 0.6748\n",
            "K-Nearest Neighbors Regressor: CV MSE = 0.4352, Test MSE = 0.4295, R^2 = 0.6728\n",
            "Neural Network (MLP): CV MSE = 0.3017, Test MSE = 0.2989, R^2 = 0.7723\n"
          ]
        }
      ]
    }
  ]
}